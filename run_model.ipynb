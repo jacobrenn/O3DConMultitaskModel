{
 "cells": [
  {
   "cell_type": "code",
   "execution_count": null,
   "metadata": {},
   "outputs": [],
   "source": [
    "import os\n",
    "import datasets\n",
    "import numpy as np\n",
    "import tensorflow as tf\n",
    "from beyondml import tflow\n",
    "import matplotlib.pyplot as plt\n",
    "\n",
    "%matplotlib inline"
   ]
  },
  {
   "cell_type": "code",
   "execution_count": null,
   "metadata": {},
   "outputs": [],
   "source": [
    "model = tf.keras.models.load_model('o3dcon_model_pruned.h5', custom_objects = tflow.utils.get_custom_objects())\n",
    "model.trainable = False\n",
    "model.stop_training\n",
    "model.summary()"
   ]
  },
  {
   "cell_type": "code",
   "execution_count": null,
   "metadata": {},
   "outputs": [],
   "source": [
    "face_idx = 1200\n",
    "cifar_idx = 100\n",
    "text_idx = 2984\n",
    "\n",
    "#face_idx = 83\n",
    "#cifar_idx = 28\n",
    "#text_idx = 923"
   ]
  },
  {
   "cell_type": "code",
   "execution_count": null,
   "metadata": {},
   "outputs": [],
   "source": [
    "image_dir = '/Users/jwrenn4/Documents/utkface-split/validation/'\n",
    "image_files = os.listdir(image_dir)\n",
    "image_name = image_files[1200]\n",
    "img = tf.keras.preprocessing.image.load_img(os.path.join(image_dir, image_files[face_idx]))\n",
    "face_image = tf.image.resize(np.array(img), (128, 128))/255\n",
    "face_image = np.array(face_image).reshape((1, 128, 128, 3))\n",
    "img"
   ]
  },
  {
   "cell_type": "code",
   "execution_count": null,
   "metadata": {},
   "outputs": [],
   "source": [
    "(cifar10_x_train, cifar10_y_train), (cifar10_x_test, cifar10_y_test) = tf.keras.datasets.cifar10.load_data()\n",
    "cifar10_x_test = tf.image.resize(cifar10_x_test, (128, 128))/255\n",
    "cifar_image = cifar10_x_test[cifar_idx]\n",
    "plt.imshow(cifar_image)\n",
    "plt.show()"
   ]
  },
  {
   "cell_type": "code",
   "execution_count": null,
   "metadata": {},
   "outputs": [],
   "source": [
    "text_data = datasets.load_dataset('ag_news')\n",
    "tokenizer = tf.keras.preprocessing.text.Tokenizer(30000)\n",
    "tokenizer.fit_on_texts(text_data['train']['text'])\n",
    "sequences = tf.keras.preprocessing.sequence.pad_sequences(tokenizer.texts_to_sequences(text_data['test']['text']), 128)\n",
    "token_positions = np.asarray([np.arange(128)]*sequences.shape[0])\n",
    "\n",
    "text_sequence = sequences[text_idx]\n",
    "token_position = token_positions[text_idx]\n",
    "\n",
    "print(text_data['test']['text'][text_idx])"
   ]
  },
  {
   "cell_type": "code",
   "execution_count": null,
   "metadata": {},
   "outputs": [],
   "source": [
    "preds = model.predict([face_image, np.array(cifar_image).reshape(1, 128, 128, 3), text_sequence.reshape(1, -1), token_position.reshape(1, -1)])"
   ]
  },
  {
   "cell_type": "code",
   "execution_count": null,
   "metadata": {},
   "outputs": [],
   "source": [
    "face_pred_mapper = dict(zip(range(10), ['0-10', '10-20', '20-30', '30-40', '40-50', '50-60', '50-70', '70-80', '80-90', '90+']))\n",
    "print(f'Facial Prediction: {face_pred_mapper[preds[0].argmax(axis = 1)[0]]}')\n",
    "img"
   ]
  },
  {
   "cell_type": "code",
   "execution_count": null,
   "metadata": {},
   "outputs": [],
   "source": [
    "cifar10_class_mapper = dict(zip(range(10), ['airplane', 'automobile', 'bird', 'cat', 'deer', 'dog', 'frog', 'horse', 'ship', 'truck']))\n",
    "print(f'CIFAR10 Prediction: {cifar10_class_mapper[preds[1].argmax(axis = 1)[0]]}')\n",
    "plt.imshow(cifar_image)\n",
    "plt.show()"
   ]
  },
  {
   "cell_type": "code",
   "execution_count": null,
   "metadata": {},
   "outputs": [],
   "source": [
    "ag_news_class_mapper = {0 : 'World', 1 : 'Sports', 2 : 'Business', 3 : 'Sci/Tech'}\n",
    "print(f'Text Prediction: {ag_news_class_mapper[preds[2].argmax(axis = 1)[0]]}')\n",
    "print('\\n')\n",
    "print(text_data['test']['text'][text_idx])"
   ]
  }
 ],
 "metadata": {
  "kernelspec": {
   "display_name": "Python 3.10.6 ('base')",
   "language": "python",
   "name": "python3"
  },
  "language_info": {
   "codemirror_mode": {
    "name": "ipython",
    "version": 3
   },
   "file_extension": ".py",
   "mimetype": "text/x-python",
   "name": "python",
   "nbconvert_exporter": "python",
   "pygments_lexer": "ipython3",
   "version": "3.10.6"
  },
  "orig_nbformat": 4,
  "vscode": {
   "interpreter": {
    "hash": "0671325c08d22fc44ce2e58aedbf8efae69ce5eb9c1911bbe321ecb24080d883"
   }
  }
 },
 "nbformat": 4,
 "nbformat_minor": 2
}
